{
 "cells": [
  {
   "cell_type": "markdown",
   "id": "ff1dab4f-fd4c-4ae0-bf36-04b9f2c6a530",
   "metadata": {},
   "source": [
    "# 机器学习练习1-线性回归"
   ]
  },
  {
   "cell_type": "markdown",
   "id": "2d85b700-3a74-44a7-9ba8-4f0f1ce708cb",
   "metadata": {},
   "source": [
    "使用python语言完成作业"
   ]
  },
  {
   "cell_type": "markdown",
   "id": "756d3f37-e1d0-49eb-9789-5a6c1a9e4ddb",
   "metadata": {},
   "source": [
    "## 简单测试"
   ]
  },
  {
   "cell_type": "markdown",
   "id": "b49f7f39-26a5-491f-84a5-c46a046b4c83",
   "metadata": {},
   "source": [
    "输出一个5x5的单位矩阵"
   ]
  },
  {
   "cell_type": "code",
   "execution_count": 6,
   "id": "57130afe-69d6-4e9c-9b36-e39e0b1dce23",
   "metadata": {},
   "outputs": [],
   "source": [
    "import numpy as np\n",
    "import pandas as pd\n",
    "import matplotlib.pyplot as plt"
   ]
  },
  {
   "cell_type": "code",
   "execution_count": 9,
   "id": "ce2e009c-66ec-44c1-81cb-647a1e5beb21",
   "metadata": {},
   "outputs": [
    {
     "data": {
      "text/plain": [
       "array([[1., 0., 0., 0., 0.],\n",
       "       [0., 1., 0., 0., 0.],\n",
       "       [0., 0., 1., 0., 0.],\n",
       "       [0., 0., 0., 1., 0.],\n",
       "       [0., 0., 0., 0., 1.]])"
      ]
     },
     "execution_count": 9,
     "metadata": {},
     "output_type": "execute_result"
    }
   ],
   "source": [
    "A = np.eye(5)\n",
    "A"
   ]
  },
  {
   "cell_type": "markdown",
   "id": "c053f804-5d3e-4b1b-a506-07d6a4591c8b",
   "metadata": {},
   "source": [
    "## 单变量线性回归"
   ]
  },
  {
   "cell_type": "markdown",
   "id": "a934608c-4109-4f58-aacf-55f7053a41b6",
   "metadata": {},
   "source": [
    "这个问题中，我们要根据ex1data1.txt中的人口和利润数据，预测我们的利润"
   ]
  },
  {
   "cell_type": "code",
   "execution_count": null,
   "id": "feb2d3b7-53b4-4772-a1a9-d2ce493bd1b8",
   "metadata": {},
   "outputs": [],
   "source": [
    "data = np."
   ]
  }
 ],
 "metadata": {
  "kernelspec": {
   "display_name": "Python 3 (ipykernel)",
   "language": "python",
   "name": "python3"
  },
  "language_info": {
   "codemirror_mode": {
    "name": "ipython",
    "version": 3
   },
   "file_extension": ".py",
   "mimetype": "text/x-python",
   "name": "python",
   "nbconvert_exporter": "python",
   "pygments_lexer": "ipython3",
   "version": "3.9.13"
  }
 },
 "nbformat": 4,
 "nbformat_minor": 5
}
