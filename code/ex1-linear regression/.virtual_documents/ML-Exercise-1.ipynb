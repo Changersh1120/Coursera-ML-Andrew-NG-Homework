import numpy as np
import pandas as pd
import matplotlib.pyplot as plt


A = np.eye(5)
A


data = pd.read_csv('ex1data1.txt', names=['Population', 'Profit']) # 导入数据
data.head()


data.describe() # 数据的特征量


data.plot(kind='scatter', x = 'Population', y = 'Profit', marker='x', color = 'red')
plt.show()


# 计算代价函数的方法
def computeCost(X, y, theta):
    h = np.power(
