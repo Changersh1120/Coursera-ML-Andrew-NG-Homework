{
 "cells": [
  {
   "cell_type": "markdown",
   "source": [
    " # 机器学习练习3-多类分类\n",
    "\n",
    "使用python语言完成作业\n",
    "\n",
    "代码修改并注释：Changersh，Changersh@outlook.com"
   ],
   "metadata": {
    "collapsed": false,
    "pycharm": {
     "name": "#%% md\n"
    }
   }
  },
  {
   "cell_type": "markdown",
   "source": [
    "# 1、多类分类"
   ],
   "metadata": {
    "collapsed": false,
    "pycharm": {
     "name": "#%% md\n"
    }
   }
  },
  {
   "cell_type": "code",
   "execution_count": 123,
   "outputs": [],
   "source": [
    "import numpy as np\n",
    "import pandas as pd\n",
    "import matplotlib.pyplot as plt\n",
    "from scipy.io import loadmat"
   ],
   "metadata": {
    "collapsed": false,
    "pycharm": {
     "name": "#%%\n"
    }
   }
  },
  {
   "cell_type": "markdown",
   "source": [
    "## 1.1 读入数据\n",
    "\n",
    "数据以 .mat 类型存储，python中使用 `lodamat` 读取，是scipy.io中的工具\n",
    ".mat 文件会以矩阵的格式保存"
   ],
   "metadata": {
    "collapsed": false,
    "pycharm": {
     "name": "#%% md\n"
    }
   }
  },
  {
   "cell_type": "code",
   "execution_count": 124,
   "outputs": [
    {
     "data": {
      "text/plain": "{'__header__': b'MATLAB 5.0 MAT-file, Platform: GLNXA64, Created on: Sun Oct 16 13:09:09 2011',\n '__version__': '1.0',\n '__globals__': [],\n 'X': array([[0., 0., 0., ..., 0., 0., 0.],\n        [0., 0., 0., ..., 0., 0., 0.],\n        [0., 0., 0., ..., 0., 0., 0.],\n        ...,\n        [0., 0., 0., ..., 0., 0., 0.],\n        [0., 0., 0., ..., 0., 0., 0.],\n        [0., 0., 0., ..., 0., 0., 0.]]),\n 'y': array([[10],\n        [10],\n        [10],\n        ...,\n        [ 9],\n        [ 9],\n        [ 9]], dtype=uint8)}"
     },
     "execution_count": 124,
     "metadata": {},
     "output_type": "execute_result"
    }
   ],
   "source": [
    "path = 'ex3data1.mat'\n",
    "data = loadmat(path)\n",
    "data\n",
    "# 注意，此数据原用于 matlab，为了避免 0 索引，就将y中是0的结果，使用 10 代替。"
   ],
   "metadata": {
    "collapsed": false,
    "pycharm": {
     "name": "#%%\n"
    }
   }
  },
  {
   "cell_type": "markdown",
   "source": [
    "## 1.2 可视化数据\n",
    "没有对应的matlab函数，放弃了"
   ],
   "metadata": {
    "collapsed": false,
    "pycharm": {
     "name": "#%% md\n"
    }
   }
  },
  {
   "cell_type": "markdown",
   "source": [
    "## 1.3 向量化逻辑回归"
   ],
   "metadata": {
    "collapsed": false,
    "pycharm": {
     "name": "#%% md\n"
    }
   }
  },
  {
   "cell_type": "markdown",
   "source": [
    "### 1.3.1 向量化Cost函数\n",
    "首先是 z 形函数"
   ],
   "metadata": {
    "collapsed": false,
    "pycharm": {
     "name": "#%% md\n"
    }
   }
  },
  {
   "cell_type": "code",
   "execution_count": 125,
   "outputs": [],
   "source": [
    "def sigmoid(z):\n",
    "    return 1 / (1 + np.exp(-z))"
   ],
   "metadata": {
    "collapsed": false,
    "pycharm": {
     "name": "#%%\n"
    }
   }
  },
  {
   "cell_type": "markdown",
   "source": [
    "逻辑回归的代价函数：\n",
    "$$\n",
    "J(\\theta)= - \\frac{1}{m}\\sum_{i=1}^m[y^{(i)}*log(h_\\theta(x^{i})) + (1-y^{i})*log(1-h_\\theta(x^{i}))] + \\frac{\\lambda}{2m}\\sum_{j=1}^n \\theta_j^2\n",
    "$$"
   ],
   "metadata": {
    "collapsed": false,
    "pycharm": {
     "name": "#%% md\n"
    }
   }
  },
  {
   "cell_type": "code",
   "execution_count": 126,
   "outputs": [],
   "source": [
    "# 使用正则化之后的函数，没有 for 循环\n",
    "def cost(theta, X, y, learningRate):\n",
    "    theta = np.matrix(theta)\n",
    "    X = np.matrix(X)\n",
    "    y = np.matrix(y)\n",
    "    first = np.multiply(-y, np.log(sigmoid(X * theta.T)))\n",
    "    second = np.multiply((1 - y), np.log(1 - sigmoid(X * theta.T)))\n",
    "    reg = (learningRate / (2 * len(X))) * np.sum(np.power(theta[:,1:theta.shape[1]], 2))\n",
    "    return np.sum(first - second) / len(X) + reg"
   ],
   "metadata": {
    "collapsed": false,
    "pycharm": {
     "name": "#%%\n"
    }
   }
  },
  {
   "cell_type": "markdown",
   "source": [
    "### 1.3.2 向量化梯度函数gradient\n",
    "\n",
    "lam就是上面式子中的λ，是正则化参数，不能太大，否则会导致拟合效果很差。\n",
    "我们也要写出更新参数 θ 的函数，并且不用给出 学习速率α，因为我们后面使用第一题使用过的高级的方法，会自动给出学习速率\n",
    "$$\n",
    "Repeat \\ until \\ convergence \\{ \\\\\n",
    "\\theta_0 := \\theta_0 - \\alpha \\frac{1}{m}\\sum_{i=1}^m(h_\\theta(x^{(i)}) -y^{(i)})x_0^{(i)}\n",
    "\\\\\n",
    "\\theta_j := \\theta_j - \\alpha [\\frac{1}{m}\\sum_{i=1}^m(h_\\theta(x^{(i)}) -y^{(i)})x_j^{(i)} + \\frac{\\lambda}{m}\\theta_j]\n",
    "\\\\\n",
    "\\}\n",
    "$$\n",
    "\n",
    "后面一项可以化简\n",
    "$$\n",
    "\\theta_j := \\theta_j(1-\\alpha \\frac{\\lambda}{m}) - \\alpha \\frac{1}{m}\\sum_{i=1}^m(h_\\theta(x^{(i)}) -y^{(i)})x_j^{(i)}\n",
    "$$"
   ],
   "metadata": {
    "collapsed": false,
    "pycharm": {
     "name": "#%% md\n"
    }
   }
  },
  {
   "cell_type": "markdown",
   "source": [
    "使用 for 循环的梯度函数"
   ],
   "metadata": {
    "collapsed": false,
    "pycharm": {
     "name": "#%% md\n"
    }
   }
  },
  {
   "cell_type": "code",
   "execution_count": 127,
   "outputs": [],
   "source": [
    "def gradient_with_loop(theta, X, y, lam):\n",
    "    theta = np.matrix(theta)\n",
    "    X = np.matrix(X)\n",
    "    y = np.matrix(y)\n",
    "\n",
    "    parameters = X.shape[1]\n",
    "    grad = np.zeros(parameters) # 存储梯度\n",
    "\n",
    "    error = sigmoid(X * theta.T) - y # 这一项跟theta没关系，预处理出来\n",
    "    for i in range(parameters):\n",
    "        tmp = np.sum(np.multiply(error, X[:, i])) / X.shape[0]\n",
    "        if i == 0:\n",
    "            grad[i] = tmp\n",
    "        else:\n",
    "            grad[i] = tmp + (lam * theta[:, i]) / X.shape[0]\n",
    "\n",
    "    return grad"
   ],
   "metadata": {
    "collapsed": false,
    "pycharm": {
     "name": "#%%\n"
    }
   }
  },
  {
   "cell_type": "markdown",
   "source": [
    "向量化的梯度函数"
   ],
   "metadata": {
    "collapsed": false,
    "pycharm": {
     "name": "#%% md\n"
    }
   }
  },
  {
   "cell_type": "code",
   "execution_count": 128,
   "outputs": [],
   "source": [
    "def gradient(theta, X, y, lam):\n",
    "    theta = np.matrix(theta)\n",
    "    X = np.matrix(X)\n",
    "    y = np.matrix(y)\n",
    "\n",
    "    parameters = int(theta.ravel().shape[1])\n",
    "\n",
    "    error = sigmoid(X * theta.T) - y # 这一项跟theta没关系，预处理出来\n",
    "\n",
    "    grad = ((X.T * error) / X.shape[0]).T + ((lam / X.shape[0]) * theta)\n",
    "    grad[0, 0] = np.sum(np.multiply(error, X[:,0])) / X.shape[0]\n",
    "\n",
    "    return np.array(grad).ravel()"
   ],
   "metadata": {
    "collapsed": false,
    "pycharm": {
     "name": "#%%\n"
    }
   }
  },
  {
   "cell_type": "markdown",
   "source": [
    "## 1.4 One-vs-All分类\n",
    "\n",
    "我们有十个可能的类，逻辑回归只能在两个类之间分类。多类分类的策略就是分为 是i 和 不是i 两种，最后逐个套用分类器，比较概率。\n",
    "\n",
    "这样的话，循环进行分类，最后比较即可"
   ],
   "metadata": {
    "collapsed": false,
    "pycharm": {
     "name": "#%% md\n"
    }
   }
  },
  {
   "cell_type": "code",
   "execution_count": 129,
   "outputs": [],
   "source": [
    "from scipy.optimize import minimize\n",
    "# fmin_tnc 拟牛顿法用于最小优化问题\n",
    "def one_vs_all(X, y, num_labels, lam):\n",
    "    rows = X.shape[0]\n",
    "    params = X.shape[1]\n",
    "\n",
    "    # k * (n+1) k个分类器中，每个分类器的参数 theta\n",
    "    all_theta = np.zeros((num_labels, params + 1))\n",
    "\n",
    "    # 在 0 位置插入长度是 rows 的 1 ，以 axis=1（列）的形式\n",
    "    X = np.insert(X, 0, values=np.ones(rows), axis=1)\n",
    "\n",
    "    # 切记循环从 1 开始，0被映射为 10 了\n",
    "    for i in range(1, num_labels + 1):\n",
    "        theta = np.zeros(params + 1)\n",
    "        y_i = np.array([1 if label == i else 0 for label in y])\n",
    "        y_i = np.reshape(y_i, (rows, 1))\n",
    "\n",
    "        # 最小化函数求 theta\n",
    "        # x0是要优化的变量的初始值\n",
    "        # TNC是优化方法，截断牛顿法\n",
    "        # jac是梯度函数\n",
    "        fmin = minimize(fun=cost, x0=theta, args=(X, y_i, lam), method='TNC', jac=gradient)\n",
    "\n",
    "        all_theta[i-1, :] = fmin.x\n",
    "\n",
    "    return all_theta"
   ],
   "metadata": {
    "collapsed": false,
    "pycharm": {
     "name": "#%%\n"
    }
   }
  },
  {
   "cell_type": "markdown",
   "source": [
    "初始化各种向量，注意维度"
   ],
   "metadata": {
    "collapsed": false,
    "pycharm": {
     "name": "#%% md\n"
    }
   }
  },
  {
   "cell_type": "code",
   "execution_count": 130,
   "outputs": [
    {
     "data": {
      "text/plain": "((5000, 401), (5000, 1), (401,), (10, 401))"
     },
     "execution_count": 130,
     "metadata": {},
     "output_type": "execute_result"
    }
   ],
   "source": [
    "rows = data['X'].shape[0]\n",
    "params = data['X'].shape[1]\n",
    "\n",
    "all_theta = np.zeros((10, params + 1))\n",
    "\n",
    "X = np.insert(data['X'], 0, values=np.ones(rows), axis=1)\n",
    "\n",
    "theta = np.zeros(params + 1)\n",
    "\n",
    "y_0 = np.array([1 if label == 0 else 0 for label in data['y']])\n",
    "y_0 = np.reshape(y_0, (rows, 1))\n",
    "\n",
    "X.shape, y_0.shape, theta.shape, all_theta.shape"
   ],
   "metadata": {
    "collapsed": false,
    "pycharm": {
     "name": "#%%\n"
    }
   }
  },
  {
   "cell_type": "code",
   "execution_count": 131,
   "outputs": [
    {
     "data": {
      "text/plain": "array([ 1,  2,  3,  4,  5,  6,  7,  8,  9, 10], dtype=uint8)"
     },
     "execution_count": 131,
     "metadata": {},
     "output_type": "execute_result"
    }
   ],
   "source": [
    "np.unique(data['y'])#看下有几类标签"
   ],
   "metadata": {
    "collapsed": false,
    "pycharm": {
     "name": "#%%\n"
    }
   }
  },
  {
   "cell_type": "markdown",
   "source": [
    "确保训练函数正确运行，得到合理的输出"
   ],
   "metadata": {
    "collapsed": false,
    "pycharm": {
     "name": "#%% md\n"
    }
   }
  },
  {
   "cell_type": "code",
   "execution_count": 132,
   "outputs": [
    {
     "data": {
      "text/plain": "array([[-2.38090200e+00,  0.00000000e+00,  0.00000000e+00, ...,\n         1.30362219e-03, -6.06149084e-10,  0.00000000e+00],\n       [-3.18420805e+00,  0.00000000e+00,  0.00000000e+00, ...,\n         4.46211711e-03, -5.08723221e-04,  0.00000000e+00],\n       [-4.79563739e+00,  0.00000000e+00,  0.00000000e+00, ...,\n        -2.86475853e-05, -2.47347362e-07,  0.00000000e+00],\n       ...,\n       [-7.98603898e+00,  0.00000000e+00,  0.00000000e+00, ...,\n        -8.94272873e-05,  7.21573274e-06,  0.00000000e+00],\n       [-4.57361264e+00,  0.00000000e+00,  0.00000000e+00, ...,\n        -1.33685653e-03,  1.00046175e-04,  0.00000000e+00],\n       [-5.40406502e+00,  0.00000000e+00,  0.00000000e+00, ...,\n        -1.16595999e-04,  7.89322344e-06,  0.00000000e+00]])"
     },
     "execution_count": 132,
     "metadata": {},
     "output_type": "execute_result"
    }
   ],
   "source": [
    "all_theta = one_vs_all(data['X'], data['y'], 10, 1)\n",
    "all_theta"
   ],
   "metadata": {
    "collapsed": false,
    "pycharm": {
     "name": "#%%\n"
    }
   }
  },
  {
   "cell_type": "markdown",
   "source": [
    "验证正确性之后，使用训练完毕的分类器预测每个图象的标签。\n",
    "我们算每个类的概率，输出标签为概率最高的类\n",
    "\n",
    "预测函数$h_\\theta = g(\\theta^TX)$\n",
    "预测出的是 正确的概率"
   ],
   "metadata": {
    "collapsed": false,
    "pycharm": {
     "name": "#%% md\n"
    }
   }
  },
  {
   "cell_type": "code",
   "execution_count": 141,
   "outputs": [],
   "source": [
    "def predict_all(X, all_theta):\n",
    "    rows = X.shape[0]\n",
    "    params = X.shape[1]\n",
    "    num_labels = all_theta.shape[0]\n",
    "\n",
    "    X = np.insert(X, 0, values=np.ones(rows), axis=1)\n",
    "    X = np.matrix(X)\n",
    "    all_theta = np.matrix(all_theta)\n",
    "\n",
    "    h = sigmoid(X * all_theta.T) # 5000*10 是每个例子中，是数字 i 的概率\n",
    "\n",
    "    # 获得 h 中最大元素的索引\n",
    "    h_argmax = np.argmax(h, axis=1)\n",
    "\n",
    "    h_argmax = h_argmax + 1\n",
    "\n",
    "    return h_argmax"
   ],
   "metadata": {
    "collapsed": false,
    "pycharm": {
     "name": "#%%\n"
    }
   }
  },
  {
   "cell_type": "code",
   "execution_count": 142,
   "outputs": [
    {
     "name": "stdout",
     "output_type": "stream",
     "text": [
      "(5000, 10)\n"
     ]
    }
   ],
   "source": [
    "y_pred = predict_all(data['X'], all_theta)\n",
    "correct = [1 if a == b else 0 for (a, b) in zip(y_pred, data['y'])]\n",
    "accuracy = (sum(map(int, correct)) / float(len(correct)))\n",
    "print ('accuracy = {0}%'.format(accuracy * 100))"
   ],
   "metadata": {
    "collapsed": false,
    "pycharm": {
     "name": "#%%\n"
    }
   }
  },
  {
   "cell_type": "code",
   "execution_count": 134,
   "outputs": [],
   "source": [],
   "metadata": {
    "collapsed": false,
    "pycharm": {
     "name": "#%%\n"
    }
   }
  }
 ],
 "metadata": {
  "kernelspec": {
   "display_name": "Python 3",
   "language": "python",
   "name": "python3"
  },
  "language_info": {
   "codemirror_mode": {
    "name": "ipython",
    "version": 2
   },
   "file_extension": ".py",
   "mimetype": "text/x-python",
   "name": "python",
   "nbconvert_exporter": "python",
   "pygments_lexer": "ipython2",
   "version": "2.7.6"
  }
 },
 "nbformat": 4,
 "nbformat_minor": 0
}